{
  "nbformat": 4,
  "nbformat_minor": 0,
  "metadata": {
    "colab": {
      "name": "Food-sales-predictions-Part 5.ipynb",
      "provenance": [],
      "authorship_tag": "ABX9TyNwPAJsq/w92FekizX3L1hJ",
      "include_colab_link": true
    },
    "kernelspec": {
      "name": "python3",
      "display_name": "Python 3"
    },
    "language_info": {
      "name": "python"
    }
  },
  "cells": [
    {
      "cell_type": "markdown",
      "metadata": {
        "id": "view-in-github",
        "colab_type": "text"
      },
      "source": [
        "<a href=\"https://colab.research.google.com/github/todebode/Food-sales-predictions/blob/main/Food_sales_predictions_Part_5.ipynb\" target=\"_parent\"><img src=\"https://colab.research.google.com/assets/colab-badge.svg\" alt=\"Open In Colab\"/></a>"
      ]
    },
    {
      "cell_type": "markdown",
      "source": [
        "# Project 1 - Part 5 (Core)\n",
        "\n",
        "Tijesunimi Odebode\n",
        "\n",
        "02/27/2022"
      ],
      "metadata": {
        "id": "htHvFXsD3Mca"
      }
    },
    {
      "cell_type": "code",
      "execution_count": null,
      "metadata": {
        "colab": {
          "base_uri": "https://localhost:8080/"
        },
        "id": "iYl6qC2y28Rj",
        "outputId": "f423c4da-93bd-469d-f8d9-af07edba6d5c"
      },
      "outputs": [
        {
          "output_type": "stream",
          "name": "stdout",
          "text": [
            "Drive already mounted at /content/drive; to attempt to forcibly remount, call drive.mount(\"/content/drive\", force_remount=True).\n"
          ]
        }
      ],
      "source": [
        "from google.colab import drive\n",
        "drive.mount('/content/drive')"
      ]
    },
    {
      "cell_type": "markdown",
      "source": [
        "### 1. Import Necessary Libraries"
      ],
      "metadata": {
        "id": "1ne52YXF5v5G"
      }
    },
    {
      "cell_type": "code",
      "source": [
        "import pandas as pd\n",
        "import numpy as np\n",
        "from sklearn.preprocessing import StandardScaler, OneHotEncoder\n",
        "from sklearn.impute import SimpleImputer\n",
        "from sklearn.compose import make_column_transformer, make_column_selector\n",
        "from sklearn.pipeline import make_pipeline\n",
        "from sklearn.model_selection import train_test_split\n",
        "from sklearn import set_config\n",
        "set_config(display='diagram')"
      ],
      "metadata": {
        "id": "qeEMbYR45lPi"
      },
      "execution_count": null,
      "outputs": []
    },
    {
      "cell_type": "markdown",
      "source": [
        "### 2. Load the Data"
      ],
      "metadata": {
        "id": "BMQ-Y0mU6v7h"
      }
    },
    {
      "cell_type": "code",
      "source": [
        "filename = \"/content/drive/MyDrive/Coding Dojo Bootcamp/Data/sales_predictions.csv\"\n",
        "sales_predictions = pd.read_csv(filename)\n",
        "sales_predictions.head()"
      ],
      "metadata": {
        "colab": {
          "base_uri": "https://localhost:8080/",
          "height": 357
        },
        "id": "JfJP3VBE5zX4",
        "outputId": "71ec84c3-8f88-47ab-de89-36f2a4a2ca42"
      },
      "execution_count": null,
      "outputs": [
        {
          "output_type": "execute_result",
          "data": {
            "text/html": [
              "\n",
              "  <div id=\"df-ed3a46f6-02d6-4f03-9c06-91567c44cc60\">\n",
              "    <div class=\"colab-df-container\">\n",
              "      <div>\n",
              "<style scoped>\n",
              "    .dataframe tbody tr th:only-of-type {\n",
              "        vertical-align: middle;\n",
              "    }\n",
              "\n",
              "    .dataframe tbody tr th {\n",
              "        vertical-align: top;\n",
              "    }\n",
              "\n",
              "    .dataframe thead th {\n",
              "        text-align: right;\n",
              "    }\n",
              "</style>\n",
              "<table border=\"1\" class=\"dataframe\">\n",
              "  <thead>\n",
              "    <tr style=\"text-align: right;\">\n",
              "      <th></th>\n",
              "      <th>Item_Identifier</th>\n",
              "      <th>Item_Weight</th>\n",
              "      <th>Item_Fat_Content</th>\n",
              "      <th>Item_Visibility</th>\n",
              "      <th>Item_Type</th>\n",
              "      <th>Item_MRP</th>\n",
              "      <th>Outlet_Identifier</th>\n",
              "      <th>Outlet_Establishment_Year</th>\n",
              "      <th>Outlet_Size</th>\n",
              "      <th>Outlet_Location_Type</th>\n",
              "      <th>Outlet_Type</th>\n",
              "      <th>Item_Outlet_Sales</th>\n",
              "    </tr>\n",
              "  </thead>\n",
              "  <tbody>\n",
              "    <tr>\n",
              "      <th>0</th>\n",
              "      <td>FDA15</td>\n",
              "      <td>9.30</td>\n",
              "      <td>Low Fat</td>\n",
              "      <td>0.016047</td>\n",
              "      <td>Dairy</td>\n",
              "      <td>249.8092</td>\n",
              "      <td>OUT049</td>\n",
              "      <td>1999</td>\n",
              "      <td>Medium</td>\n",
              "      <td>Tier 1</td>\n",
              "      <td>Supermarket Type1</td>\n",
              "      <td>3735.1380</td>\n",
              "    </tr>\n",
              "    <tr>\n",
              "      <th>1</th>\n",
              "      <td>DRC01</td>\n",
              "      <td>5.92</td>\n",
              "      <td>Regular</td>\n",
              "      <td>0.019278</td>\n",
              "      <td>Soft Drinks</td>\n",
              "      <td>48.2692</td>\n",
              "      <td>OUT018</td>\n",
              "      <td>2009</td>\n",
              "      <td>Medium</td>\n",
              "      <td>Tier 3</td>\n",
              "      <td>Supermarket Type2</td>\n",
              "      <td>443.4228</td>\n",
              "    </tr>\n",
              "    <tr>\n",
              "      <th>2</th>\n",
              "      <td>FDN15</td>\n",
              "      <td>17.50</td>\n",
              "      <td>Low Fat</td>\n",
              "      <td>0.016760</td>\n",
              "      <td>Meat</td>\n",
              "      <td>141.6180</td>\n",
              "      <td>OUT049</td>\n",
              "      <td>1999</td>\n",
              "      <td>Medium</td>\n",
              "      <td>Tier 1</td>\n",
              "      <td>Supermarket Type1</td>\n",
              "      <td>2097.2700</td>\n",
              "    </tr>\n",
              "    <tr>\n",
              "      <th>3</th>\n",
              "      <td>FDX07</td>\n",
              "      <td>19.20</td>\n",
              "      <td>Regular</td>\n",
              "      <td>0.000000</td>\n",
              "      <td>Fruits and Vegetables</td>\n",
              "      <td>182.0950</td>\n",
              "      <td>OUT010</td>\n",
              "      <td>1998</td>\n",
              "      <td>NaN</td>\n",
              "      <td>Tier 3</td>\n",
              "      <td>Grocery Store</td>\n",
              "      <td>732.3800</td>\n",
              "    </tr>\n",
              "    <tr>\n",
              "      <th>4</th>\n",
              "      <td>NCD19</td>\n",
              "      <td>8.93</td>\n",
              "      <td>Low Fat</td>\n",
              "      <td>0.000000</td>\n",
              "      <td>Household</td>\n",
              "      <td>53.8614</td>\n",
              "      <td>OUT013</td>\n",
              "      <td>1987</td>\n",
              "      <td>High</td>\n",
              "      <td>Tier 3</td>\n",
              "      <td>Supermarket Type1</td>\n",
              "      <td>994.7052</td>\n",
              "    </tr>\n",
              "  </tbody>\n",
              "</table>\n",
              "</div>\n",
              "      <button class=\"colab-df-convert\" onclick=\"convertToInteractive('df-ed3a46f6-02d6-4f03-9c06-91567c44cc60')\"\n",
              "              title=\"Convert this dataframe to an interactive table.\"\n",
              "              style=\"display:none;\">\n",
              "        \n",
              "  <svg xmlns=\"http://www.w3.org/2000/svg\" height=\"24px\"viewBox=\"0 0 24 24\"\n",
              "       width=\"24px\">\n",
              "    <path d=\"M0 0h24v24H0V0z\" fill=\"none\"/>\n",
              "    <path d=\"M18.56 5.44l.94 2.06.94-2.06 2.06-.94-2.06-.94-.94-2.06-.94 2.06-2.06.94zm-11 1L8.5 8.5l.94-2.06 2.06-.94-2.06-.94L8.5 2.5l-.94 2.06-2.06.94zm10 10l.94 2.06.94-2.06 2.06-.94-2.06-.94-.94-2.06-.94 2.06-2.06.94z\"/><path d=\"M17.41 7.96l-1.37-1.37c-.4-.4-.92-.59-1.43-.59-.52 0-1.04.2-1.43.59L10.3 9.45l-7.72 7.72c-.78.78-.78 2.05 0 2.83L4 21.41c.39.39.9.59 1.41.59.51 0 1.02-.2 1.41-.59l7.78-7.78 2.81-2.81c.8-.78.8-2.07 0-2.86zM5.41 20L4 18.59l7.72-7.72 1.47 1.35L5.41 20z\"/>\n",
              "  </svg>\n",
              "      </button>\n",
              "      \n",
              "  <style>\n",
              "    .colab-df-container {\n",
              "      display:flex;\n",
              "      flex-wrap:wrap;\n",
              "      gap: 12px;\n",
              "    }\n",
              "\n",
              "    .colab-df-convert {\n",
              "      background-color: #E8F0FE;\n",
              "      border: none;\n",
              "      border-radius: 50%;\n",
              "      cursor: pointer;\n",
              "      display: none;\n",
              "      fill: #1967D2;\n",
              "      height: 32px;\n",
              "      padding: 0 0 0 0;\n",
              "      width: 32px;\n",
              "    }\n",
              "\n",
              "    .colab-df-convert:hover {\n",
              "      background-color: #E2EBFA;\n",
              "      box-shadow: 0px 1px 2px rgba(60, 64, 67, 0.3), 0px 1px 3px 1px rgba(60, 64, 67, 0.15);\n",
              "      fill: #174EA6;\n",
              "    }\n",
              "\n",
              "    [theme=dark] .colab-df-convert {\n",
              "      background-color: #3B4455;\n",
              "      fill: #D2E3FC;\n",
              "    }\n",
              "\n",
              "    [theme=dark] .colab-df-convert:hover {\n",
              "      background-color: #434B5C;\n",
              "      box-shadow: 0px 1px 3px 1px rgba(0, 0, 0, 0.15);\n",
              "      filter: drop-shadow(0px 1px 2px rgba(0, 0, 0, 0.3));\n",
              "      fill: #FFFFFF;\n",
              "    }\n",
              "  </style>\n",
              "\n",
              "      <script>\n",
              "        const buttonEl =\n",
              "          document.querySelector('#df-ed3a46f6-02d6-4f03-9c06-91567c44cc60 button.colab-df-convert');\n",
              "        buttonEl.style.display =\n",
              "          google.colab.kernel.accessAllowed ? 'block' : 'none';\n",
              "\n",
              "        async function convertToInteractive(key) {\n",
              "          const element = document.querySelector('#df-ed3a46f6-02d6-4f03-9c06-91567c44cc60');\n",
              "          const dataTable =\n",
              "            await google.colab.kernel.invokeFunction('convertToInteractive',\n",
              "                                                     [key], {});\n",
              "          if (!dataTable) return;\n",
              "\n",
              "          const docLinkHtml = 'Like what you see? Visit the ' +\n",
              "            '<a target=\"_blank\" href=https://colab.research.google.com/notebooks/data_table.ipynb>data table notebook</a>'\n",
              "            + ' to learn more about interactive tables.';\n",
              "          element.innerHTML = '';\n",
              "          dataTable['output_type'] = 'display_data';\n",
              "          await google.colab.output.renderOutput(dataTable, element);\n",
              "          const docLink = document.createElement('div');\n",
              "          docLink.innerHTML = docLinkHtml;\n",
              "          element.appendChild(docLink);\n",
              "        }\n",
              "      </script>\n",
              "    </div>\n",
              "  </div>\n",
              "  "
            ],
            "text/plain": [
              "  Item_Identifier  Item_Weight  ...        Outlet_Type  Item_Outlet_Sales\n",
              "0           FDA15         9.30  ...  Supermarket Type1          3735.1380\n",
              "1           DRC01         5.92  ...  Supermarket Type2           443.4228\n",
              "2           FDN15        17.50  ...  Supermarket Type1          2097.2700\n",
              "3           FDX07        19.20  ...      Grocery Store           732.3800\n",
              "4           NCD19         8.93  ...  Supermarket Type1           994.7052\n",
              "\n",
              "[5 rows x 12 columns]"
            ]
          },
          "metadata": {},
          "execution_count": 66
        }
      ]
    },
    {
      "cell_type": "markdown",
      "source": [
        "### 3. Explore the data"
      ],
      "metadata": {
        "id": "8mTzI8Mo9KQY"
      }
    },
    {
      "cell_type": "code",
      "source": [
        "sales_predictions.info()"
      ],
      "metadata": {
        "colab": {
          "base_uri": "https://localhost:8080/"
        },
        "id": "ta8Uxp0p9SwS",
        "outputId": "72c6a354-0a48-4e9c-a215-9dd9a499036e"
      },
      "execution_count": null,
      "outputs": [
        {
          "output_type": "stream",
          "name": "stdout",
          "text": [
            "<class 'pandas.core.frame.DataFrame'>\n",
            "RangeIndex: 8523 entries, 0 to 8522\n",
            "Data columns (total 12 columns):\n",
            " #   Column                     Non-Null Count  Dtype  \n",
            "---  ------                     --------------  -----  \n",
            " 0   Item_Identifier            8523 non-null   object \n",
            " 1   Item_Weight                7060 non-null   float64\n",
            " 2   Item_Fat_Content           8523 non-null   object \n",
            " 3   Item_Visibility            8523 non-null   float64\n",
            " 4   Item_Type                  8523 non-null   object \n",
            " 5   Item_MRP                   8523 non-null   float64\n",
            " 6   Outlet_Identifier          8523 non-null   object \n",
            " 7   Outlet_Establishment_Year  8523 non-null   int64  \n",
            " 8   Outlet_Size                6113 non-null   object \n",
            " 9   Outlet_Location_Type       8523 non-null   object \n",
            " 10  Outlet_Type                8523 non-null   object \n",
            " 11  Item_Outlet_Sales          8523 non-null   float64\n",
            "dtypes: float64(4), int64(1), object(7)\n",
            "memory usage: 799.2+ KB\n"
          ]
        }
      ]
    },
    {
      "cell_type": "markdown",
      "source": [
        "- As seen above, there are two columns with missing data. The columns are '**Item_Weight**' and '**Outlet_Size**.'"
      ],
      "metadata": {
        "id": "kPa0RMds_YNq"
      }
    },
    {
      "cell_type": "markdown",
      "source": [
        "### 3. Identify each feature as numerical, ordinal, or nominal.\n",
        "\n",
        "**Numerical features:** 'Item_Weight', 'Item_Visibility', 'Item_MRP'\n",
        "\n",
        "**Nominal features:** 'Item_Identifier', 'Item_Type', 'Outlet_Identifier', 'Outlet_Type'\n",
        "\n",
        "**Ordinal features:** 'Item_Fat_Content', 'Outlet_Establishment_Year', 'Outlet_Size', 'Outlet_Location_Type'"
      ],
      "metadata": {
        "id": "r0FzNW8c9Cfd"
      }
    },
    {
      "cell_type": "markdown",
      "source": [
        "### 4. Ordinal Encoding\n",
        "\n",
        "We will ordinal encode all ordinal features"
      ],
      "metadata": {
        "id": "SP4UEgAcPwMm"
      }
    },
    {
      "cell_type": "code",
      "source": [
        "# Let's see the unique values in the 'Item_Fat_Content' column \n",
        "sales_predictions['Item_Fat_Content'].value_counts()"
      ],
      "metadata": {
        "colab": {
          "base_uri": "https://localhost:8080/"
        },
        "id": "-H0R3pc3QE5w",
        "outputId": "676d7a54-120d-4ed7-d86d-1b05ca088ed4"
      },
      "execution_count": null,
      "outputs": [
        {
          "output_type": "execute_result",
          "data": {
            "text/plain": [
              "Low Fat    5089\n",
              "Regular    2889\n",
              "LF          316\n",
              "reg         117\n",
              "low fat     112\n",
              "Name: Item_Fat_Content, dtype: int64"
            ]
          },
          "metadata": {},
          "execution_count": 68
        }
      ]
    },
    {
      "cell_type": "markdown",
      "source": [
        "- We see that there are some inconsistent values. \"Low Fat\" is written in different ways - capitalized, lower case and even abbreviated. 'Regular' is written in two ways: 'Regular' and 'reg.' We will correct those in the same step that we ordinal encode this column"
      ],
      "metadata": {
        "id": "Pq_iYywkQUzX"
      }
    },
    {
      "cell_type": "code",
      "source": [
        "# Ordinal Encode 'Item_Fat_Content'\n",
        "replacement_dictionary = {'Regular':1, 'reg':1, 'Low Fat':0, 'LF':0, \n",
        "                          'low fat':0}\n",
        "sales_predictions['Item_Fat_Content'].replace(replacement_dictionary, \n",
        "                                              inplace=True)\n",
        "sales_predictions['Item_Fat_Content'].value_counts()"
      ],
      "metadata": {
        "colab": {
          "base_uri": "https://localhost:8080/"
        },
        "id": "4LnFfTv5QwxH",
        "outputId": "00ca6269-e796-4937-b904-c3081200d212"
      },
      "execution_count": null,
      "outputs": [
        {
          "output_type": "execute_result",
          "data": {
            "text/plain": [
              "0    5517\n",
              "1    3006\n",
              "Name: Item_Fat_Content, dtype: int64"
            ]
          },
          "metadata": {},
          "execution_count": 69
        }
      ]
    },
    {
      "cell_type": "code",
      "source": [
        "# Let's see the unique values in the 'Outlet_Establishment_Year' column \n",
        "sales_predictions['Outlet_Establishment_Year'].value_counts()"
      ],
      "metadata": {
        "colab": {
          "base_uri": "https://localhost:8080/"
        },
        "id": "6wzjXCsLToTk",
        "outputId": "679e2b42-11ba-4112-fa65-6b54a7e3019b"
      },
      "execution_count": null,
      "outputs": [
        {
          "output_type": "execute_result",
          "data": {
            "text/plain": [
              "1985    1463\n",
              "1987     932\n",
              "1999     930\n",
              "1997     930\n",
              "2004     930\n",
              "2002     929\n",
              "2009     928\n",
              "2007     926\n",
              "1998     555\n",
              "Name: Outlet_Establishment_Year, dtype: int64"
            ]
          },
          "metadata": {},
          "execution_count": 70
        }
      ]
    },
    {
      "cell_type": "code",
      "source": [
        "# Ordinal Encode 'Outlet_Establishment_Year'\n",
        "replacement_dictionary = {2009:8, 2007:7, 2004:6, 2002:5, 1999:4, 1998:3, \n",
        "                          1997:2, 1987:1, 1985:0}\n",
        "sales_predictions['Outlet_Establishment_Year'].replace(replacement_dictionary,\n",
        "                                                       inplace=True)\n",
        "sales_predictions['Outlet_Establishment_Year'].value_counts()"
      ],
      "metadata": {
        "colab": {
          "base_uri": "https://localhost:8080/"
        },
        "id": "mkrnQ3IWOm-q",
        "outputId": "985c89d2-a1ce-4624-cf44-4543321ec908"
      },
      "execution_count": null,
      "outputs": [
        {
          "output_type": "execute_result",
          "data": {
            "text/plain": [
              "0    1463\n",
              "1     932\n",
              "4     930\n",
              "2     930\n",
              "6     930\n",
              "5     929\n",
              "8     928\n",
              "7     926\n",
              "3     555\n",
              "Name: Outlet_Establishment_Year, dtype: int64"
            ]
          },
          "metadata": {},
          "execution_count": 71
        }
      ]
    },
    {
      "cell_type": "code",
      "source": [
        "# Let's see the unique values in the 'Outlet_Size' column \n",
        "sales_predictions['Outlet_Size'].value_counts()"
      ],
      "metadata": {
        "colab": {
          "base_uri": "https://localhost:8080/"
        },
        "id": "2nCNIrTPVJ0_",
        "outputId": "57e6ed9d-224a-48f8-e25a-325dfa5a00ca"
      },
      "execution_count": null,
      "outputs": [
        {
          "output_type": "execute_result",
          "data": {
            "text/plain": [
              "Medium    2793\n",
              "Small     2388\n",
              "High       932\n",
              "Name: Outlet_Size, dtype: int64"
            ]
          },
          "metadata": {},
          "execution_count": 72
        }
      ]
    },
    {
      "cell_type": "code",
      "source": [
        "# Ordinal Encode 'Outlet_Size'\n",
        "replacement_dictionary = {'High':2, 'Medium':1, 'Small':0}\n",
        "sales_predictions['Outlet_Size'].replace(replacement_dictionary, inplace=True)\n",
        "sales_predictions['Outlet_Size'].value_counts()"
      ],
      "metadata": {
        "colab": {
          "base_uri": "https://localhost:8080/"
        },
        "id": "jYownFTUePFk",
        "outputId": "d4637f93-0565-4a7f-9b74-2697a471696b"
      },
      "execution_count": null,
      "outputs": [
        {
          "output_type": "execute_result",
          "data": {
            "text/plain": [
              "1.0    2793\n",
              "0.0    2388\n",
              "2.0     932\n",
              "Name: Outlet_Size, dtype: int64"
            ]
          },
          "metadata": {},
          "execution_count": 73
        }
      ]
    },
    {
      "cell_type": "code",
      "source": [
        "# Let's see the unique values in the 'Outlet_Location_Type' column \n",
        "sales_predictions['Outlet_Location_Type'].value_counts()"
      ],
      "metadata": {
        "colab": {
          "base_uri": "https://localhost:8080/"
        },
        "id": "Z4NRIxqselKb",
        "outputId": "40fda1e8-b317-4918-e424-3c56384d57b0"
      },
      "execution_count": null,
      "outputs": [
        {
          "output_type": "execute_result",
          "data": {
            "text/plain": [
              "Tier 3    3350\n",
              "Tier 2    2785\n",
              "Tier 1    2388\n",
              "Name: Outlet_Location_Type, dtype: int64"
            ]
          },
          "metadata": {},
          "execution_count": 74
        }
      ]
    },
    {
      "cell_type": "code",
      "source": [
        "# Ordinal Encode 'Outlet_Location_Type'\n",
        "replacement_dictionary = {'Tier 3':2, 'Tier 2':1, 'Tier 1':0}\n",
        "sales_predictions['Outlet_Location_Type'].replace(replacement_dictionary, inplace=True)\n",
        "sales_predictions['Outlet_Location_Type'].value_counts()"
      ],
      "metadata": {
        "colab": {
          "base_uri": "https://localhost:8080/"
        },
        "id": "Aym8tBWEfY84",
        "outputId": "c0a9b1a3-2df8-45ab-9863-9b6b973040a3"
      },
      "execution_count": null,
      "outputs": [
        {
          "output_type": "execute_result",
          "data": {
            "text/plain": [
              "2    3350\n",
              "1    2785\n",
              "0    2388\n",
              "Name: Outlet_Location_Type, dtype: int64"
            ]
          },
          "metadata": {},
          "execution_count": 75
        }
      ]
    },
    {
      "cell_type": "markdown",
      "source": [
        "### 5. Validation Split"
      ],
      "metadata": {
        "id": "8HIrGin6gJ00"
      }
    },
    {
      "cell_type": "code",
      "source": [
        "X = sales_predictions.drop(columns=['Item_Outlet_Sales'])\n",
        "y = sales_predictions['Item_Outlet_Sales']\n",
        "X_train, X_test, y_train, y_test = train_test_split(X, y, random_state = 42)"
      ],
      "metadata": {
        "id": "5uzBd58jfyrq"
      },
      "execution_count": null,
      "outputs": []
    },
    {
      "cell_type": "markdown",
      "source": [
        "### 6. Instantiate Column Selectors"
      ],
      "metadata": {
        "id": "twaLLQgCmJdF"
      }
    },
    {
      "cell_type": "code",
      "source": [
        "cat_selector = make_column_selector(dtype_include='object')\n",
        "num_selector = make_column_selector(dtype_include='number')"
      ],
      "metadata": {
        "id": "wmBLLzBdmImo"
      },
      "execution_count": null,
      "outputs": []
    },
    {
      "cell_type": "markdown",
      "source": [
        "### 7. Instantiate Transformers.\n",
        "\n",
        "We will be using 3 different transformers: SimpleImputer, StandardScaler, and OneHotEncoder. There will be one SimpleImputer with one imputation strategy: ‘median’ strategy for numeric columns. The only categorical column with missing value has been ordinal encoded, so we won't need to use SimpleImputer for that column."
      ],
      "metadata": {
        "id": "a2NhGwCkrW4V"
      }
    },
    {
      "cell_type": "code",
      "source": [
        "# Imputers\n",
        "median_imputer = SimpleImputer(strategy='median')\n",
        "# Scaler\n",
        "scaler = StandardScaler()\n",
        "# One-hot encoder\n",
        "ohe = OneHotEncoder(handle_unknown='ignore', sparse=False)"
      ],
      "metadata": {
        "id": "HvUhhYT2nUU8"
      },
      "execution_count": null,
      "outputs": []
    },
    {
      "cell_type": "markdown",
      "source": [
        "### 8. Instantiate Pipelines\n",
        "\n",
        "We will be using TWO different pipelines. One for numeric data and one for nominal categorical data."
      ],
      "metadata": {
        "id": "v46RAzu2soJW"
      }
    },
    {
      "cell_type": "code",
      "source": [
        "# Numeric pipeline\n",
        "numeric_pipe = make_pipeline(median_imputer, scaler)\n",
        "numeric_pipe"
      ],
      "metadata": {
        "colab": {
          "base_uri": "https://localhost:8080/",
          "height": 126
        },
        "id": "ppZ543_jhAMT",
        "outputId": "3459ba2f-2633-40ac-946d-b08449ec8402"
      },
      "execution_count": null,
      "outputs": [
        {
          "output_type": "execute_result",
          "data": {
            "text/html": [
              "<style>#sk-bce1fd4e-8e49-4bcf-8cd0-8eaef0583302 {color: black;background-color: white;}#sk-bce1fd4e-8e49-4bcf-8cd0-8eaef0583302 pre{padding: 0;}#sk-bce1fd4e-8e49-4bcf-8cd0-8eaef0583302 div.sk-toggleable {background-color: white;}#sk-bce1fd4e-8e49-4bcf-8cd0-8eaef0583302 label.sk-toggleable__label {cursor: pointer;display: block;width: 100%;margin-bottom: 0;padding: 0.3em;box-sizing: border-box;text-align: center;}#sk-bce1fd4e-8e49-4bcf-8cd0-8eaef0583302 label.sk-toggleable__label-arrow:before {content: \"▸\";float: left;margin-right: 0.25em;color: #696969;}#sk-bce1fd4e-8e49-4bcf-8cd0-8eaef0583302 label.sk-toggleable__label-arrow:hover:before {color: black;}#sk-bce1fd4e-8e49-4bcf-8cd0-8eaef0583302 div.sk-estimator:hover label.sk-toggleable__label-arrow:before {color: black;}#sk-bce1fd4e-8e49-4bcf-8cd0-8eaef0583302 div.sk-toggleable__content {max-height: 0;max-width: 0;overflow: hidden;text-align: left;background-color: #f0f8ff;}#sk-bce1fd4e-8e49-4bcf-8cd0-8eaef0583302 div.sk-toggleable__content pre {margin: 0.2em;color: black;border-radius: 0.25em;background-color: #f0f8ff;}#sk-bce1fd4e-8e49-4bcf-8cd0-8eaef0583302 input.sk-toggleable__control:checked~div.sk-toggleable__content {max-height: 200px;max-width: 100%;overflow: auto;}#sk-bce1fd4e-8e49-4bcf-8cd0-8eaef0583302 input.sk-toggleable__control:checked~label.sk-toggleable__label-arrow:before {content: \"▾\";}#sk-bce1fd4e-8e49-4bcf-8cd0-8eaef0583302 div.sk-estimator input.sk-toggleable__control:checked~label.sk-toggleable__label {background-color: #d4ebff;}#sk-bce1fd4e-8e49-4bcf-8cd0-8eaef0583302 div.sk-label input.sk-toggleable__control:checked~label.sk-toggleable__label {background-color: #d4ebff;}#sk-bce1fd4e-8e49-4bcf-8cd0-8eaef0583302 input.sk-hidden--visually {border: 0;clip: rect(1px 1px 1px 1px);clip: rect(1px, 1px, 1px, 1px);height: 1px;margin: -1px;overflow: hidden;padding: 0;position: absolute;width: 1px;}#sk-bce1fd4e-8e49-4bcf-8cd0-8eaef0583302 div.sk-estimator {font-family: monospace;background-color: #f0f8ff;border: 1px dotted black;border-radius: 0.25em;box-sizing: border-box;margin-bottom: 0.5em;}#sk-bce1fd4e-8e49-4bcf-8cd0-8eaef0583302 div.sk-estimator:hover {background-color: #d4ebff;}#sk-bce1fd4e-8e49-4bcf-8cd0-8eaef0583302 div.sk-parallel-item::after {content: \"\";width: 100%;border-bottom: 1px solid gray;flex-grow: 1;}#sk-bce1fd4e-8e49-4bcf-8cd0-8eaef0583302 div.sk-label:hover label.sk-toggleable__label {background-color: #d4ebff;}#sk-bce1fd4e-8e49-4bcf-8cd0-8eaef0583302 div.sk-serial::before {content: \"\";position: absolute;border-left: 1px solid gray;box-sizing: border-box;top: 2em;bottom: 0;left: 50%;}#sk-bce1fd4e-8e49-4bcf-8cd0-8eaef0583302 div.sk-serial {display: flex;flex-direction: column;align-items: center;background-color: white;padding-right: 0.2em;padding-left: 0.2em;}#sk-bce1fd4e-8e49-4bcf-8cd0-8eaef0583302 div.sk-item {z-index: 1;}#sk-bce1fd4e-8e49-4bcf-8cd0-8eaef0583302 div.sk-parallel {display: flex;align-items: stretch;justify-content: center;background-color: white;}#sk-bce1fd4e-8e49-4bcf-8cd0-8eaef0583302 div.sk-parallel::before {content: \"\";position: absolute;border-left: 1px solid gray;box-sizing: border-box;top: 2em;bottom: 0;left: 50%;}#sk-bce1fd4e-8e49-4bcf-8cd0-8eaef0583302 div.sk-parallel-item {display: flex;flex-direction: column;position: relative;background-color: white;}#sk-bce1fd4e-8e49-4bcf-8cd0-8eaef0583302 div.sk-parallel-item:first-child::after {align-self: flex-end;width: 50%;}#sk-bce1fd4e-8e49-4bcf-8cd0-8eaef0583302 div.sk-parallel-item:last-child::after {align-self: flex-start;width: 50%;}#sk-bce1fd4e-8e49-4bcf-8cd0-8eaef0583302 div.sk-parallel-item:only-child::after {width: 0;}#sk-bce1fd4e-8e49-4bcf-8cd0-8eaef0583302 div.sk-dashed-wrapped {border: 1px dashed gray;margin: 0 0.4em 0.5em 0.4em;box-sizing: border-box;padding-bottom: 0.4em;background-color: white;position: relative;}#sk-bce1fd4e-8e49-4bcf-8cd0-8eaef0583302 div.sk-label label {font-family: monospace;font-weight: bold;background-color: white;display: inline-block;line-height: 1.2em;}#sk-bce1fd4e-8e49-4bcf-8cd0-8eaef0583302 div.sk-label-container {position: relative;z-index: 2;text-align: center;}#sk-bce1fd4e-8e49-4bcf-8cd0-8eaef0583302 div.sk-container {/* jupyter's `normalize.less` sets `[hidden] { display: none; }` but bootstrap.min.css set `[hidden] { display: none !important; }` so we also need the `!important` here to be able to override the default hidden behavior on the sphinx rendered scikit-learn.org. See: https://github.com/scikit-learn/scikit-learn/issues/21755 */display: inline-block !important;position: relative;}#sk-bce1fd4e-8e49-4bcf-8cd0-8eaef0583302 div.sk-text-repr-fallback {display: none;}</style><div id=\"sk-bce1fd4e-8e49-4bcf-8cd0-8eaef0583302\" class=\"sk-top-container\"><div class=\"sk-text-repr-fallback\"><pre>Pipeline(steps=[(&#x27;simpleimputer&#x27;, SimpleImputer(strategy=&#x27;median&#x27;)),\n",
              "                (&#x27;standardscaler&#x27;, StandardScaler())])</pre><b>Please rerun this cell to show the HTML repr or trust the notebook.</b></div><div class=\"sk-container\" hidden><div class=\"sk-item sk-dashed-wrapped\"><div class=\"sk-label-container\"><div class=\"sk-label sk-toggleable\"><input class=\"sk-toggleable__control sk-hidden--visually\" id=\"fed6792a-c573-473e-8bb2-77cf7e71e267\" type=\"checkbox\" ><label for=\"fed6792a-c573-473e-8bb2-77cf7e71e267\" class=\"sk-toggleable__label sk-toggleable__label-arrow\">Pipeline</label><div class=\"sk-toggleable__content\"><pre>Pipeline(steps=[(&#x27;simpleimputer&#x27;, SimpleImputer(strategy=&#x27;median&#x27;)),\n",
              "                (&#x27;standardscaler&#x27;, StandardScaler())])</pre></div></div></div><div class=\"sk-serial\"><div class=\"sk-item\"><div class=\"sk-estimator sk-toggleable\"><input class=\"sk-toggleable__control sk-hidden--visually\" id=\"6c5651ae-473f-44a6-8312-08ca9ac040a6\" type=\"checkbox\" ><label for=\"6c5651ae-473f-44a6-8312-08ca9ac040a6\" class=\"sk-toggleable__label sk-toggleable__label-arrow\">SimpleImputer</label><div class=\"sk-toggleable__content\"><pre>SimpleImputer(strategy=&#x27;median&#x27;)</pre></div></div></div><div class=\"sk-item\"><div class=\"sk-estimator sk-toggleable\"><input class=\"sk-toggleable__control sk-hidden--visually\" id=\"871a3979-470e-4e7f-9ce5-8816ec1c8090\" type=\"checkbox\" ><label for=\"871a3979-470e-4e7f-9ce5-8816ec1c8090\" class=\"sk-toggleable__label sk-toggleable__label-arrow\">StandardScaler</label><div class=\"sk-toggleable__content\"><pre>StandardScaler()</pre></div></div></div></div></div></div></div>"
            ],
            "text/plain": [
              "Pipeline(steps=[('simpleimputer', SimpleImputer(strategy='median')),\n",
              "                ('standardscaler', StandardScaler())])"
            ]
          },
          "metadata": {},
          "execution_count": 79
        }
      ]
    },
    {
      "cell_type": "code",
      "source": [
        "# # Nominal Categorical pipeline\n",
        "# categorical_pipe = make_pipeline(ohe)\n",
        "# categorical_pipe"
      ],
      "metadata": {
        "id": "ifkHw8D-tFB3"
      },
      "execution_count": null,
      "outputs": []
    },
    {
      "cell_type": "markdown",
      "source": [
        "### 9. Instantiate ColumnTransformer"
      ],
      "metadata": {
        "id": "OGTh-cC4tXI3"
      }
    },
    {
      "cell_type": "code",
      "source": [
        "# Tuples for Column Transformer\n",
        "number_tuple = (numeric_pipe, num_selector)\n",
        "category_tuple = (ohe, cat_selector)\n",
        "# ColumnTransformer\n",
        "preprocessor = make_column_transformer(number_tuple, category_tuple)\n",
        "preprocessor"
      ],
      "metadata": {
        "colab": {
          "base_uri": "https://localhost:8080/",
          "height": 152
        },
        "id": "jJu6jNeXtP4Y",
        "outputId": "64ef60d0-ab60-430f-bd8e-0e98373aadc1"
      },
      "execution_count": null,
      "outputs": [
        {
          "output_type": "execute_result",
          "data": {
            "text/html": [
              "<style>#sk-cee828a1-1f18-4982-a78d-d9df92ea94bf {color: black;background-color: white;}#sk-cee828a1-1f18-4982-a78d-d9df92ea94bf pre{padding: 0;}#sk-cee828a1-1f18-4982-a78d-d9df92ea94bf div.sk-toggleable {background-color: white;}#sk-cee828a1-1f18-4982-a78d-d9df92ea94bf label.sk-toggleable__label {cursor: pointer;display: block;width: 100%;margin-bottom: 0;padding: 0.3em;box-sizing: border-box;text-align: center;}#sk-cee828a1-1f18-4982-a78d-d9df92ea94bf label.sk-toggleable__label-arrow:before {content: \"▸\";float: left;margin-right: 0.25em;color: #696969;}#sk-cee828a1-1f18-4982-a78d-d9df92ea94bf label.sk-toggleable__label-arrow:hover:before {color: black;}#sk-cee828a1-1f18-4982-a78d-d9df92ea94bf div.sk-estimator:hover label.sk-toggleable__label-arrow:before {color: black;}#sk-cee828a1-1f18-4982-a78d-d9df92ea94bf div.sk-toggleable__content {max-height: 0;max-width: 0;overflow: hidden;text-align: left;background-color: #f0f8ff;}#sk-cee828a1-1f18-4982-a78d-d9df92ea94bf div.sk-toggleable__content pre {margin: 0.2em;color: black;border-radius: 0.25em;background-color: #f0f8ff;}#sk-cee828a1-1f18-4982-a78d-d9df92ea94bf input.sk-toggleable__control:checked~div.sk-toggleable__content {max-height: 200px;max-width: 100%;overflow: auto;}#sk-cee828a1-1f18-4982-a78d-d9df92ea94bf input.sk-toggleable__control:checked~label.sk-toggleable__label-arrow:before {content: \"▾\";}#sk-cee828a1-1f18-4982-a78d-d9df92ea94bf div.sk-estimator input.sk-toggleable__control:checked~label.sk-toggleable__label {background-color: #d4ebff;}#sk-cee828a1-1f18-4982-a78d-d9df92ea94bf div.sk-label input.sk-toggleable__control:checked~label.sk-toggleable__label {background-color: #d4ebff;}#sk-cee828a1-1f18-4982-a78d-d9df92ea94bf input.sk-hidden--visually {border: 0;clip: rect(1px 1px 1px 1px);clip: rect(1px, 1px, 1px, 1px);height: 1px;margin: -1px;overflow: hidden;padding: 0;position: absolute;width: 1px;}#sk-cee828a1-1f18-4982-a78d-d9df92ea94bf div.sk-estimator {font-family: monospace;background-color: #f0f8ff;border: 1px dotted black;border-radius: 0.25em;box-sizing: border-box;margin-bottom: 0.5em;}#sk-cee828a1-1f18-4982-a78d-d9df92ea94bf div.sk-estimator:hover {background-color: #d4ebff;}#sk-cee828a1-1f18-4982-a78d-d9df92ea94bf div.sk-parallel-item::after {content: \"\";width: 100%;border-bottom: 1px solid gray;flex-grow: 1;}#sk-cee828a1-1f18-4982-a78d-d9df92ea94bf div.sk-label:hover label.sk-toggleable__label {background-color: #d4ebff;}#sk-cee828a1-1f18-4982-a78d-d9df92ea94bf div.sk-serial::before {content: \"\";position: absolute;border-left: 1px solid gray;box-sizing: border-box;top: 2em;bottom: 0;left: 50%;}#sk-cee828a1-1f18-4982-a78d-d9df92ea94bf div.sk-serial {display: flex;flex-direction: column;align-items: center;background-color: white;padding-right: 0.2em;padding-left: 0.2em;}#sk-cee828a1-1f18-4982-a78d-d9df92ea94bf div.sk-item {z-index: 1;}#sk-cee828a1-1f18-4982-a78d-d9df92ea94bf div.sk-parallel {display: flex;align-items: stretch;justify-content: center;background-color: white;}#sk-cee828a1-1f18-4982-a78d-d9df92ea94bf div.sk-parallel::before {content: \"\";position: absolute;border-left: 1px solid gray;box-sizing: border-box;top: 2em;bottom: 0;left: 50%;}#sk-cee828a1-1f18-4982-a78d-d9df92ea94bf div.sk-parallel-item {display: flex;flex-direction: column;position: relative;background-color: white;}#sk-cee828a1-1f18-4982-a78d-d9df92ea94bf div.sk-parallel-item:first-child::after {align-self: flex-end;width: 50%;}#sk-cee828a1-1f18-4982-a78d-d9df92ea94bf div.sk-parallel-item:last-child::after {align-self: flex-start;width: 50%;}#sk-cee828a1-1f18-4982-a78d-d9df92ea94bf div.sk-parallel-item:only-child::after {width: 0;}#sk-cee828a1-1f18-4982-a78d-d9df92ea94bf div.sk-dashed-wrapped {border: 1px dashed gray;margin: 0 0.4em 0.5em 0.4em;box-sizing: border-box;padding-bottom: 0.4em;background-color: white;position: relative;}#sk-cee828a1-1f18-4982-a78d-d9df92ea94bf div.sk-label label {font-family: monospace;font-weight: bold;background-color: white;display: inline-block;line-height: 1.2em;}#sk-cee828a1-1f18-4982-a78d-d9df92ea94bf div.sk-label-container {position: relative;z-index: 2;text-align: center;}#sk-cee828a1-1f18-4982-a78d-d9df92ea94bf div.sk-container {/* jupyter's `normalize.less` sets `[hidden] { display: none; }` but bootstrap.min.css set `[hidden] { display: none !important; }` so we also need the `!important` here to be able to override the default hidden behavior on the sphinx rendered scikit-learn.org. See: https://github.com/scikit-learn/scikit-learn/issues/21755 */display: inline-block !important;position: relative;}#sk-cee828a1-1f18-4982-a78d-d9df92ea94bf div.sk-text-repr-fallback {display: none;}</style><div id=\"sk-cee828a1-1f18-4982-a78d-d9df92ea94bf\" class=\"sk-top-container\"><div class=\"sk-text-repr-fallback\"><pre>ColumnTransformer(transformers=[(&#x27;pipeline&#x27;,\n",
              "                                 Pipeline(steps=[(&#x27;simpleimputer&#x27;,\n",
              "                                                  SimpleImputer(strategy=&#x27;median&#x27;)),\n",
              "                                                 (&#x27;standardscaler&#x27;,\n",
              "                                                  StandardScaler())]),\n",
              "                                 &lt;sklearn.compose._column_transformer.make_column_selector object at 0x7fb55912a850&gt;),\n",
              "                                (&#x27;onehotencoder&#x27;,\n",
              "                                 OneHotEncoder(handle_unknown=&#x27;ignore&#x27;,\n",
              "                                               sparse=False),\n",
              "                                 &lt;sklearn.compose._column_transformer.make_column_selector object at 0x7fb55912a890&gt;)])</pre><b>Please rerun this cell to show the HTML repr or trust the notebook.</b></div><div class=\"sk-container\" hidden><div class=\"sk-item sk-dashed-wrapped\"><div class=\"sk-label-container\"><div class=\"sk-label sk-toggleable\"><input class=\"sk-toggleable__control sk-hidden--visually\" id=\"b83b6149-0547-4f6e-9127-480e2b0ba1e8\" type=\"checkbox\" ><label for=\"b83b6149-0547-4f6e-9127-480e2b0ba1e8\" class=\"sk-toggleable__label sk-toggleable__label-arrow\">ColumnTransformer</label><div class=\"sk-toggleable__content\"><pre>ColumnTransformer(transformers=[(&#x27;pipeline&#x27;,\n",
              "                                 Pipeline(steps=[(&#x27;simpleimputer&#x27;,\n",
              "                                                  SimpleImputer(strategy=&#x27;median&#x27;)),\n",
              "                                                 (&#x27;standardscaler&#x27;,\n",
              "                                                  StandardScaler())]),\n",
              "                                 &lt;sklearn.compose._column_transformer.make_column_selector object at 0x7fb55912a850&gt;),\n",
              "                                (&#x27;onehotencoder&#x27;,\n",
              "                                 OneHotEncoder(handle_unknown=&#x27;ignore&#x27;,\n",
              "                                               sparse=False),\n",
              "                                 &lt;sklearn.compose._column_transformer.make_column_selector object at 0x7fb55912a890&gt;)])</pre></div></div></div><div class=\"sk-parallel\"><div class=\"sk-parallel-item\"><div class=\"sk-item\"><div class=\"sk-label-container\"><div class=\"sk-label sk-toggleable\"><input class=\"sk-toggleable__control sk-hidden--visually\" id=\"02e0db91-fd44-4460-b8a8-36417eeb6eb5\" type=\"checkbox\" ><label for=\"02e0db91-fd44-4460-b8a8-36417eeb6eb5\" class=\"sk-toggleable__label sk-toggleable__label-arrow\">pipeline</label><div class=\"sk-toggleable__content\"><pre>&lt;sklearn.compose._column_transformer.make_column_selector object at 0x7fb55912a850&gt;</pre></div></div></div><div class=\"sk-serial\"><div class=\"sk-item\"><div class=\"sk-serial\"><div class=\"sk-item\"><div class=\"sk-estimator sk-toggleable\"><input class=\"sk-toggleable__control sk-hidden--visually\" id=\"b8655f3e-85d5-401f-9607-09c4b4a15471\" type=\"checkbox\" ><label for=\"b8655f3e-85d5-401f-9607-09c4b4a15471\" class=\"sk-toggleable__label sk-toggleable__label-arrow\">SimpleImputer</label><div class=\"sk-toggleable__content\"><pre>SimpleImputer(strategy=&#x27;median&#x27;)</pre></div></div></div><div class=\"sk-item\"><div class=\"sk-estimator sk-toggleable\"><input class=\"sk-toggleable__control sk-hidden--visually\" id=\"ace369ac-8e50-447d-9a24-2c8eb50bc9a9\" type=\"checkbox\" ><label for=\"ace369ac-8e50-447d-9a24-2c8eb50bc9a9\" class=\"sk-toggleable__label sk-toggleable__label-arrow\">StandardScaler</label><div class=\"sk-toggleable__content\"><pre>StandardScaler()</pre></div></div></div></div></div></div></div></div><div class=\"sk-parallel-item\"><div class=\"sk-item\"><div class=\"sk-label-container\"><div class=\"sk-label sk-toggleable\"><input class=\"sk-toggleable__control sk-hidden--visually\" id=\"34e0e19b-29d1-4bdb-b532-a77cab75c71f\" type=\"checkbox\" ><label for=\"34e0e19b-29d1-4bdb-b532-a77cab75c71f\" class=\"sk-toggleable__label sk-toggleable__label-arrow\">onehotencoder</label><div class=\"sk-toggleable__content\"><pre>&lt;sklearn.compose._column_transformer.make_column_selector object at 0x7fb55912a890&gt;</pre></div></div></div><div class=\"sk-serial\"><div class=\"sk-item\"><div class=\"sk-estimator sk-toggleable\"><input class=\"sk-toggleable__control sk-hidden--visually\" id=\"1f9cfbb8-6be4-4ac0-bfc3-d3bf786eda3c\" type=\"checkbox\" ><label for=\"1f9cfbb8-6be4-4ac0-bfc3-d3bf786eda3c\" class=\"sk-toggleable__label sk-toggleable__label-arrow\">OneHotEncoder</label><div class=\"sk-toggleable__content\"><pre>OneHotEncoder(handle_unknown=&#x27;ignore&#x27;, sparse=False)</pre></div></div></div></div></div></div></div></div></div></div>"
            ],
            "text/plain": [
              "ColumnTransformer(transformers=[('pipeline',\n",
              "                                 Pipeline(steps=[('simpleimputer',\n",
              "                                                  SimpleImputer(strategy='median')),\n",
              "                                                 ('standardscaler',\n",
              "                                                  StandardScaler())]),\n",
              "                                 <sklearn.compose._column_transformer.make_column_selector object at 0x7fb55912a850>),\n",
              "                                ('onehotencoder',\n",
              "                                 OneHotEncoder(handle_unknown='ignore',\n",
              "                                               sparse=False),\n",
              "                                 <sklearn.compose._column_transformer.make_column_selector object at 0x7fb55912a890>)])"
            ]
          },
          "metadata": {},
          "execution_count": 81
        }
      ]
    },
    {
      "cell_type": "markdown",
      "source": [
        "### 10. Fit the ColumnTransformer on the training data and transform both training and testing data"
      ],
      "metadata": {
        "id": "gt-Fx2a-tvGj"
      }
    },
    {
      "cell_type": "code",
      "source": [
        "preprocessor.fit(X_train)"
      ],
      "metadata": {
        "colab": {
          "base_uri": "https://localhost:8080/",
          "height": 152
        },
        "id": "a0vseEvetqHR",
        "outputId": "a0fbb470-5603-4bcc-d73b-951508252f5a"
      },
      "execution_count": null,
      "outputs": [
        {
          "output_type": "execute_result",
          "data": {
            "text/html": [
              "<style>#sk-7a230b03-554a-46a0-acb2-0b7bd24c246f {color: black;background-color: white;}#sk-7a230b03-554a-46a0-acb2-0b7bd24c246f pre{padding: 0;}#sk-7a230b03-554a-46a0-acb2-0b7bd24c246f div.sk-toggleable {background-color: white;}#sk-7a230b03-554a-46a0-acb2-0b7bd24c246f label.sk-toggleable__label {cursor: pointer;display: block;width: 100%;margin-bottom: 0;padding: 0.3em;box-sizing: border-box;text-align: center;}#sk-7a230b03-554a-46a0-acb2-0b7bd24c246f label.sk-toggleable__label-arrow:before {content: \"▸\";float: left;margin-right: 0.25em;color: #696969;}#sk-7a230b03-554a-46a0-acb2-0b7bd24c246f label.sk-toggleable__label-arrow:hover:before {color: black;}#sk-7a230b03-554a-46a0-acb2-0b7bd24c246f div.sk-estimator:hover label.sk-toggleable__label-arrow:before {color: black;}#sk-7a230b03-554a-46a0-acb2-0b7bd24c246f div.sk-toggleable__content {max-height: 0;max-width: 0;overflow: hidden;text-align: left;background-color: #f0f8ff;}#sk-7a230b03-554a-46a0-acb2-0b7bd24c246f div.sk-toggleable__content pre {margin: 0.2em;color: black;border-radius: 0.25em;background-color: #f0f8ff;}#sk-7a230b03-554a-46a0-acb2-0b7bd24c246f input.sk-toggleable__control:checked~div.sk-toggleable__content {max-height: 200px;max-width: 100%;overflow: auto;}#sk-7a230b03-554a-46a0-acb2-0b7bd24c246f input.sk-toggleable__control:checked~label.sk-toggleable__label-arrow:before {content: \"▾\";}#sk-7a230b03-554a-46a0-acb2-0b7bd24c246f div.sk-estimator input.sk-toggleable__control:checked~label.sk-toggleable__label {background-color: #d4ebff;}#sk-7a230b03-554a-46a0-acb2-0b7bd24c246f div.sk-label input.sk-toggleable__control:checked~label.sk-toggleable__label {background-color: #d4ebff;}#sk-7a230b03-554a-46a0-acb2-0b7bd24c246f input.sk-hidden--visually {border: 0;clip: rect(1px 1px 1px 1px);clip: rect(1px, 1px, 1px, 1px);height: 1px;margin: -1px;overflow: hidden;padding: 0;position: absolute;width: 1px;}#sk-7a230b03-554a-46a0-acb2-0b7bd24c246f div.sk-estimator {font-family: monospace;background-color: #f0f8ff;border: 1px dotted black;border-radius: 0.25em;box-sizing: border-box;margin-bottom: 0.5em;}#sk-7a230b03-554a-46a0-acb2-0b7bd24c246f div.sk-estimator:hover {background-color: #d4ebff;}#sk-7a230b03-554a-46a0-acb2-0b7bd24c246f div.sk-parallel-item::after {content: \"\";width: 100%;border-bottom: 1px solid gray;flex-grow: 1;}#sk-7a230b03-554a-46a0-acb2-0b7bd24c246f div.sk-label:hover label.sk-toggleable__label {background-color: #d4ebff;}#sk-7a230b03-554a-46a0-acb2-0b7bd24c246f div.sk-serial::before {content: \"\";position: absolute;border-left: 1px solid gray;box-sizing: border-box;top: 2em;bottom: 0;left: 50%;}#sk-7a230b03-554a-46a0-acb2-0b7bd24c246f div.sk-serial {display: flex;flex-direction: column;align-items: center;background-color: white;padding-right: 0.2em;padding-left: 0.2em;}#sk-7a230b03-554a-46a0-acb2-0b7bd24c246f div.sk-item {z-index: 1;}#sk-7a230b03-554a-46a0-acb2-0b7bd24c246f div.sk-parallel {display: flex;align-items: stretch;justify-content: center;background-color: white;}#sk-7a230b03-554a-46a0-acb2-0b7bd24c246f div.sk-parallel::before {content: \"\";position: absolute;border-left: 1px solid gray;box-sizing: border-box;top: 2em;bottom: 0;left: 50%;}#sk-7a230b03-554a-46a0-acb2-0b7bd24c246f div.sk-parallel-item {display: flex;flex-direction: column;position: relative;background-color: white;}#sk-7a230b03-554a-46a0-acb2-0b7bd24c246f div.sk-parallel-item:first-child::after {align-self: flex-end;width: 50%;}#sk-7a230b03-554a-46a0-acb2-0b7bd24c246f div.sk-parallel-item:last-child::after {align-self: flex-start;width: 50%;}#sk-7a230b03-554a-46a0-acb2-0b7bd24c246f div.sk-parallel-item:only-child::after {width: 0;}#sk-7a230b03-554a-46a0-acb2-0b7bd24c246f div.sk-dashed-wrapped {border: 1px dashed gray;margin: 0 0.4em 0.5em 0.4em;box-sizing: border-box;padding-bottom: 0.4em;background-color: white;position: relative;}#sk-7a230b03-554a-46a0-acb2-0b7bd24c246f div.sk-label label {font-family: monospace;font-weight: bold;background-color: white;display: inline-block;line-height: 1.2em;}#sk-7a230b03-554a-46a0-acb2-0b7bd24c246f div.sk-label-container {position: relative;z-index: 2;text-align: center;}#sk-7a230b03-554a-46a0-acb2-0b7bd24c246f div.sk-container {/* jupyter's `normalize.less` sets `[hidden] { display: none; }` but bootstrap.min.css set `[hidden] { display: none !important; }` so we also need the `!important` here to be able to override the default hidden behavior on the sphinx rendered scikit-learn.org. See: https://github.com/scikit-learn/scikit-learn/issues/21755 */display: inline-block !important;position: relative;}#sk-7a230b03-554a-46a0-acb2-0b7bd24c246f div.sk-text-repr-fallback {display: none;}</style><div id=\"sk-7a230b03-554a-46a0-acb2-0b7bd24c246f\" class=\"sk-top-container\"><div class=\"sk-text-repr-fallback\"><pre>ColumnTransformer(transformers=[(&#x27;pipeline&#x27;,\n",
              "                                 Pipeline(steps=[(&#x27;simpleimputer&#x27;,\n",
              "                                                  SimpleImputer(strategy=&#x27;median&#x27;)),\n",
              "                                                 (&#x27;standardscaler&#x27;,\n",
              "                                                  StandardScaler())]),\n",
              "                                 &lt;sklearn.compose._column_transformer.make_column_selector object at 0x7fb55912a850&gt;),\n",
              "                                (&#x27;onehotencoder&#x27;,\n",
              "                                 OneHotEncoder(handle_unknown=&#x27;ignore&#x27;,\n",
              "                                               sparse=False),\n",
              "                                 &lt;sklearn.compose._column_transformer.make_column_selector object at 0x7fb55912a890&gt;)])</pre><b>Please rerun this cell to show the HTML repr or trust the notebook.</b></div><div class=\"sk-container\" hidden><div class=\"sk-item sk-dashed-wrapped\"><div class=\"sk-label-container\"><div class=\"sk-label sk-toggleable\"><input class=\"sk-toggleable__control sk-hidden--visually\" id=\"6466d919-1d15-4c24-83a5-5594b9bd9bc9\" type=\"checkbox\" ><label for=\"6466d919-1d15-4c24-83a5-5594b9bd9bc9\" class=\"sk-toggleable__label sk-toggleable__label-arrow\">ColumnTransformer</label><div class=\"sk-toggleable__content\"><pre>ColumnTransformer(transformers=[(&#x27;pipeline&#x27;,\n",
              "                                 Pipeline(steps=[(&#x27;simpleimputer&#x27;,\n",
              "                                                  SimpleImputer(strategy=&#x27;median&#x27;)),\n",
              "                                                 (&#x27;standardscaler&#x27;,\n",
              "                                                  StandardScaler())]),\n",
              "                                 &lt;sklearn.compose._column_transformer.make_column_selector object at 0x7fb55912a850&gt;),\n",
              "                                (&#x27;onehotencoder&#x27;,\n",
              "                                 OneHotEncoder(handle_unknown=&#x27;ignore&#x27;,\n",
              "                                               sparse=False),\n",
              "                                 &lt;sklearn.compose._column_transformer.make_column_selector object at 0x7fb55912a890&gt;)])</pre></div></div></div><div class=\"sk-parallel\"><div class=\"sk-parallel-item\"><div class=\"sk-item\"><div class=\"sk-label-container\"><div class=\"sk-label sk-toggleable\"><input class=\"sk-toggleable__control sk-hidden--visually\" id=\"68d46f3c-e1d4-44cc-ad13-f649825017e8\" type=\"checkbox\" ><label for=\"68d46f3c-e1d4-44cc-ad13-f649825017e8\" class=\"sk-toggleable__label sk-toggleable__label-arrow\">pipeline</label><div class=\"sk-toggleable__content\"><pre>&lt;sklearn.compose._column_transformer.make_column_selector object at 0x7fb55912a850&gt;</pre></div></div></div><div class=\"sk-serial\"><div class=\"sk-item\"><div class=\"sk-serial\"><div class=\"sk-item\"><div class=\"sk-estimator sk-toggleable\"><input class=\"sk-toggleable__control sk-hidden--visually\" id=\"c5366364-3ff8-41a2-8b00-b5a24c32f746\" type=\"checkbox\" ><label for=\"c5366364-3ff8-41a2-8b00-b5a24c32f746\" class=\"sk-toggleable__label sk-toggleable__label-arrow\">SimpleImputer</label><div class=\"sk-toggleable__content\"><pre>SimpleImputer(strategy=&#x27;median&#x27;)</pre></div></div></div><div class=\"sk-item\"><div class=\"sk-estimator sk-toggleable\"><input class=\"sk-toggleable__control sk-hidden--visually\" id=\"6609d15b-147e-4622-a65c-825621b6c0b3\" type=\"checkbox\" ><label for=\"6609d15b-147e-4622-a65c-825621b6c0b3\" class=\"sk-toggleable__label sk-toggleable__label-arrow\">StandardScaler</label><div class=\"sk-toggleable__content\"><pre>StandardScaler()</pre></div></div></div></div></div></div></div></div><div class=\"sk-parallel-item\"><div class=\"sk-item\"><div class=\"sk-label-container\"><div class=\"sk-label sk-toggleable\"><input class=\"sk-toggleable__control sk-hidden--visually\" id=\"9d030464-45d8-452c-9fbf-c1a5e6b3dd33\" type=\"checkbox\" ><label for=\"9d030464-45d8-452c-9fbf-c1a5e6b3dd33\" class=\"sk-toggleable__label sk-toggleable__label-arrow\">onehotencoder</label><div class=\"sk-toggleable__content\"><pre>&lt;sklearn.compose._column_transformer.make_column_selector object at 0x7fb55912a890&gt;</pre></div></div></div><div class=\"sk-serial\"><div class=\"sk-item\"><div class=\"sk-estimator sk-toggleable\"><input class=\"sk-toggleable__control sk-hidden--visually\" id=\"4cb92266-8456-4174-8307-93ef750d22fe\" type=\"checkbox\" ><label for=\"4cb92266-8456-4174-8307-93ef750d22fe\" class=\"sk-toggleable__label sk-toggleable__label-arrow\">OneHotEncoder</label><div class=\"sk-toggleable__content\"><pre>OneHotEncoder(handle_unknown=&#x27;ignore&#x27;, sparse=False)</pre></div></div></div></div></div></div></div></div></div></div>"
            ],
            "text/plain": [
              "ColumnTransformer(transformers=[('pipeline',\n",
              "                                 Pipeline(steps=[('simpleimputer',\n",
              "                                                  SimpleImputer(strategy='median')),\n",
              "                                                 ('standardscaler',\n",
              "                                                  StandardScaler())]),\n",
              "                                 <sklearn.compose._column_transformer.make_column_selector object at 0x7fb55912a850>),\n",
              "                                ('onehotencoder',\n",
              "                                 OneHotEncoder(handle_unknown='ignore',\n",
              "                                               sparse=False),\n",
              "                                 <sklearn.compose._column_transformer.make_column_selector object at 0x7fb55912a890>)])"
            ]
          },
          "metadata": {},
          "execution_count": 82
        }
      ]
    },
    {
      "cell_type": "code",
      "source": [
        "# transform training and testing data\n",
        "X_train_processed = preprocessor.transform(X_train)\n",
        "X_test_processed = preprocessor.transform(X_test)"
      ],
      "metadata": {
        "id": "x_l4R4gItzHn"
      },
      "execution_count": null,
      "outputs": []
    },
    {
      "cell_type": "markdown",
      "source": [
        "### 11. Inspect the Result"
      ],
      "metadata": {
        "id": "TSfAlLOMt8fr"
      }
    },
    {
      "cell_type": "code",
      "source": [
        "print(np.isnan(X_train_processed).sum().sum(), 'missing values in training data')\n",
        "print(np.isnan(X_test_processed).sum().sum(), 'missing values in testing data')\n",
        "print('\\n')\n",
        "print('All data in X_train_processed are', X_train_processed.dtype)\n",
        "print('All data in X_test_processed are', X_test_processed.dtype)\n",
        "print('\\n')\n",
        "print('shape of data is', X_train_processed.shape)\n",
        "print('\\n')\n",
        "X_train_processed"
      ],
      "metadata": {
        "colab": {
          "base_uri": "https://localhost:8080/"
        },
        "id": "W9fBbLlut3UF",
        "outputId": "c7668353-bf21-4e44-9690-78ca6255c4f9"
      },
      "execution_count": null,
      "outputs": [
        {
          "output_type": "stream",
          "name": "stdout",
          "text": [
            "0 missing values in training data\n",
            "0 missing values in testing data\n",
            "\n",
            "\n",
            "All data in X_train_processed are float64\n",
            "All data in X_test_processed are float64\n",
            "\n",
            "\n",
            "shape of data is (6392, 1587)\n",
            "\n",
            "\n"
          ]
        },
        {
          "output_type": "execute_result",
          "data": {
            "text/plain": [
              "array([[ 0.82748547, -0.7403206 , -0.71277507, ...,  0.        ,\n",
              "         1.        ,  0.        ],\n",
              "       [ 0.56664432,  1.35076614, -1.29105225, ...,  0.        ,\n",
              "         1.        ,  0.        ],\n",
              "       [-0.12102782,  1.35076614,  1.81331864, ...,  1.        ,\n",
              "         0.        ,  0.        ],\n",
              "       ...,\n",
              "       [ 1.12389588, -0.7403206 , -0.92052713, ...,  1.        ,\n",
              "         0.        ,  0.        ],\n",
              "       [ 1.77599877, -0.7403206 , -0.2277552 , ...,  1.        ,\n",
              "         0.        ,  0.        ],\n",
              "       [ 0.82748547, -0.7403206 , -0.95867683, ...,  1.        ,\n",
              "         0.        ,  0.        ]])"
            ]
          },
          "metadata": {},
          "execution_count": 84
        }
      ]
    },
    {
      "cell_type": "markdown",
      "source": [
        "- From the above, we see that there are no missing data, all data are of type float64, and there are 1587 columns now."
      ],
      "metadata": {
        "id": "gT_GLxmpu3xV"
      }
    },
    {
      "cell_type": "code",
      "source": [
        ""
      ],
      "metadata": {
        "id": "vjPJG6UMuDtR"
      },
      "execution_count": null,
      "outputs": []
    }
  ]
}